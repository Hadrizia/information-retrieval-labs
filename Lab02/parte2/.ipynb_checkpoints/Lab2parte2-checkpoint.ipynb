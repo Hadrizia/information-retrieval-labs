{
 "cells": [
  {
   "cell_type": "markdown",
   "metadata": {},
   "source": [
    "# Lab 02 - Parte 2 - PageRank\n",
    "#### *Hadrizia Santos*\n",
    "#### Disciplina: Recuperação da Informação - UFCG 2018.1\n",
    "\n",
    "Nesta atividade, será implementado o algoritmo de PageRank, utilizado pela Google para retornar documentos na web, e utilizado para recuperar os investidores de bitcoins mais importantes. A importância é medida pelas vezes que um investidor fez negócio com os outros.\n",
    "\n",
    "## 1. Importar bibliotecas e dados\n",
    "O primeiro passo é importar as bibliotecas e dados a serem utilizados e declarar algumas constantes importantes."
   ]
  },
  {
   "cell_type": "code",
   "execution_count": 187,
   "metadata": {},
   "outputs": [],
   "source": [
    "import numpy as np\n",
    "import pandas as pd\n",
    "import operator\n",
    "\n",
    "DATA_PATH = '../../data/'\n",
    "DATA_FILE = 'soc-sign-bitcoinotc.csv'\n",
    "OUTPUT_FILE = 'page_rank.csv'\n",
    "\n",
    "# data\n",
    "data = pd.read_csv(DATA_PATH + DATA_FILE, encoding='utf-8')\n",
    "\n",
    "# setando os nomes de colunas\n",
    "data.columns = ['source', 'target', 'rating', 'time']\n",
    "\n",
    "# Pegando investidores com nota acima de 8 e removendo colunas desnecessárias (rating e time)\n",
    "data = data[(data.rating >= 8)]\n",
    "data = data.loc[:, 'source':'target'] # selecionando apenas as colunas source e target\n",
    "\n",
    "# damping factor\n",
    "D = 0.15\n",
    "COMPLEMENT_D = 1 - D\n",
    "\n",
    "# numero de iterações\n",
    "count = 0  \n",
    "\n",
    "# lista de nós dos avaliadores\n",
    "source = list(data.source)\n",
    "\n",
    "# lista de nós dos avaliados\n",
    "target = list(data.target)\n",
    "\n",
    "# lista de nós totais (removendo os repetidos) entre source e target\n",
    "nodes = list(\n",
    "            set(source) | set(list(target))\n",
    "        )\n",
    "\n",
    "# número de nós\n",
    "num_nodes = len(nodes)"
   ]
  },
  {
   "cell_type": "markdown",
   "metadata": {},
   "source": [
    "## 2. Gerar matrizes\n",
    "### 2.1. Matriz de transição\n",
    "\n",
    "A matriz de transição é uma matriz de adjacência que representa um grafo ponderado, onde a matriz[x][y] = z representa um nó que sai de x para y com valor z. No exemplo de investidores de bitcoins, isso representa que o investidor x avaliou o investidor y com nota z."
   ]
  },
  {
   "cell_type": "code",
   "execution_count": 186,
   "metadata": {},
   "outputs": [],
   "source": [
    "def generate_transition_matrix(rows, columns, values):\n",
    "    \n",
    "    num_transitions = len(rows)\n",
    "    \n",
    "    num_values = len(values)\n",
    "    \n",
    "    matrix = np.zeros(shape = (num_values, num_values))\n",
    "    \n",
    "    adjacence_dict = {node: [] for node in values}\n",
    "    \n",
    "    # Criando dicionário para representar o grafo\n",
    "\n",
    "    for i in range(num_transitions):\n",
    "        origin = rows[i]\n",
    "        destiny = columns[i]\n",
    "        adjacence_dict[origin].append(destiny)\n",
    "        \n",
    "    # Criando matriz de adjacência para o dicionário de adjacência\n",
    "    \n",
    "    for i in range(num_values):\n",
    "        source = values[i]\n",
    "        for j in range(num_values):\n",
    "            target = values[j]\n",
    "            if target in adjacence_dict[source]: \n",
    "                matrix[j][i] = 1.0 / float(len(adjacence_dict[source]))\n",
    "\n",
    "    return np.matrix(matrix)"
   ]
  },
  {
   "cell_type": "markdown",
   "metadata": {},
   "source": [
    "### 2.2. Matriz identidade\n",
    "\n",
    "A matriz criada é uma matriz NxN composta de N² números iguais a 1."
   ]
  },
  {
   "cell_type": "code",
   "execution_count": 168,
   "metadata": {},
   "outputs": [],
   "source": [
    "def generate_identity_matrix(num):\n",
    "    id_matrix = np.ones([num, num], dtype=int)\n",
    "    return id_matrix"
   ]
  },
  {
   "cell_type": "markdown",
   "metadata": {},
   "source": [
    "## 3. Implementar função PageRank\n",
    "\n",
    "Essa função calcula o pagerank recursivamente até que haja conversão entre as matrizes criadas."
   ]
  },
  {
   "cell_type": "code",
   "execution_count": 169,
   "metadata": {
    "collapsed": true
   },
   "outputs": [],
   "source": [
    "# Função que calcula o pagerank recursivamente até que o resultado convirja.\n",
    "def pagerank(v, m):\n",
    "    global count\n",
    "    count += 1\n",
    "    if (sum(abs((m * v) - v)) > 0.001):\n",
    "        return pagerank(m * v, m)\n",
    "    else:\n",
    "        return m * v"
   ]
  },
  {
   "cell_type": "markdown",
   "metadata": {},
   "source": [
    "## 4. Gerar matrizes, calcular PageRank e exportar resultados"
   ]
  },
  {
   "cell_type": "code",
   "execution_count": 188,
   "metadata": {},
   "outputs": [],
   "source": [
    "# Matriz de transição\n",
    "a = generate_transition_matrix(source, target, nodes) # matrix de transição\n",
    "\n",
    "# Matriz identidade\n",
    "b = (float(1) / float(num_nodes)) * np.matrix(generate_identity_matrix(num_nodes))\n",
    "\n",
    "# m = 0.85*a + 0.15*b\n",
    "m = (COMPLEMENT_D * a) + (D * b) \n",
    "\n",
    "# v = matriz normalizada entre 0 e 1\n",
    "v = (1.0 / float(num_nodes)) *  np.matrix(np.ones((num_nodes,1), dtype=int))\n",
    "\n",
    "# Calculando pagerank \n",
    "result = pagerank(v, m)\n",
    "result = [cell.item(0,0) for cell in result]\n",
    "\n",
    "# Exportando resultados\n",
    "results_dict = {\n",
    "    'investidor': nodes,\n",
    "    'page_rank': result\n",
    "}\n",
    "pd.DataFrame(results_dict).to_csv(DATA_PATH + OUTPUT_FILE, index = False)"
   ]
  },
  {
   "cell_type": "markdown",
   "metadata": {},
   "source": [
    "## Visualização Gephi\n",
    "\n",
    "O grafo do resultado do pageRank está disponível abaixo. Também é possível brincar com o grafo, que está localizado no diretório desta atividade:\n",
    "<img src=\"img/screenshot_125354.png\">"
   ]
  },
  {
   "cell_type": "markdown",
   "metadata": {},
   "source": [
    "## Perguntas\n",
    "### 1. Quantas iterações o PageRank precisou rodar até atingir convergência?"
   ]
  },
  {
   "cell_type": "code",
   "execution_count": 189,
   "metadata": {},
   "outputs": [
    {
     "name": "stdout",
     "output_type": "stream",
     "text": [
      "Para atingir convergência iterou-se 35 vezes\n"
     ]
    }
   ],
   "source": [
    "print('Para atingir convergência iterou-se', count, 'vezes')"
   ]
  },
  {
   "cell_type": "markdown",
   "metadata": {},
   "source": [
    "## 2. Quais os 5 investidores mais importantes segundo o PageRank? Quais seus valores de PageRank?"
   ]
  },
  {
   "cell_type": "code",
   "execution_count": 197,
   "metadata": {},
   "outputs": [
    {
     "data": {
      "text/html": [
       "<div>\n",
       "<style>\n",
       "    .dataframe thead tr:only-child th {\n",
       "        text-align: right;\n",
       "    }\n",
       "\n",
       "    .dataframe thead th {\n",
       "        text-align: left;\n",
       "    }\n",
       "\n",
       "    .dataframe tbody tr th {\n",
       "        vertical-align: top;\n",
       "    }\n",
       "</style>\n",
       "<table border=\"1\" class=\"dataframe\">\n",
       "  <thead>\n",
       "    <tr style=\"text-align: right;\">\n",
       "      <th></th>\n",
       "      <th>investidor</th>\n",
       "      <th>page_rank</th>\n",
       "    </tr>\n",
       "  </thead>\n",
       "  <tbody>\n",
       "    <tr>\n",
       "      <th>457</th>\n",
       "      <td>5025</td>\n",
       "      <td>0.000001</td>\n",
       "    </tr>\n",
       "    <tr>\n",
       "      <th>416</th>\n",
       "      <td>2859</td>\n",
       "      <td>0.000001</td>\n",
       "    </tr>\n",
       "    <tr>\n",
       "      <th>415</th>\n",
       "      <td>4900</td>\n",
       "      <td>0.000001</td>\n",
       "    </tr>\n",
       "    <tr>\n",
       "      <th>822</th>\n",
       "      <td>3816</td>\n",
       "      <td>0.000001</td>\n",
       "    </tr>\n",
       "    <tr>\n",
       "      <th>409</th>\n",
       "      <td>786</td>\n",
       "      <td>0.000001</td>\n",
       "    </tr>\n",
       "  </tbody>\n",
       "</table>\n",
       "</div>"
      ],
      "text/plain": [
       "     investidor  page_rank\n",
       "457        5025   0.000001\n",
       "416        2859   0.000001\n",
       "415        4900   0.000001\n",
       "822        3816   0.000001\n",
       "409         786   0.000001"
      ]
     },
     "execution_count": 197,
     "metadata": {},
     "output_type": "execute_result"
    }
   ],
   "source": [
    "results = pd.read_csv(DATA_PATH + OUTPUT_FILE).sort_values(by=['page_rank']) # Ordenando por page_rank\n",
    "results.head(5)"
   ]
  },
  {
   "cell_type": "markdown",
   "metadata": {},
   "source": [
    "## 3. Como você poderia usar o PageRank caso você fosse um investidor em bitcoins?\n",
    "\n",
    "Como o pageRank retorna os investidores com melhor reputação, eu iria preferir negociar com aqueles que possuem melhor posição no ranking."
   ]
  }
 ],
 "metadata": {
  "kernelspec": {
   "display_name": "Python 3",
   "language": "python",
   "name": "python3"
  },
  "language_info": {
   "codemirror_mode": {
    "name": "ipython",
    "version": 3
   },
   "file_extension": ".py",
   "mimetype": "text/x-python",
   "name": "python",
   "nbconvert_exporter": "python",
   "pygments_lexer": "ipython3",
   "version": "3.6.3"
  }
 },
 "nbformat": 4,
 "nbformat_minor": 2
}
