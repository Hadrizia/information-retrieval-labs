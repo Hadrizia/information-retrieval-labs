{
 "cells": [
  {
   "cell_type": "code",
   "execution_count": 9,
   "metadata": {},
   "outputs": [
    {
     "data": {
      "text/plain": [
       "0          PT espera 30 mil pessoas em festa na Esplanada\n",
       "1                  Alckmin toma posse de olho no Planalto\n",
       "2       Seis obstáculos e desafios do segundo mandato ...\n",
       "3       Veja os desafios dos governadores que assumem ...\n",
       "4       PT impulsiona cerimônia de posse da Dilma nas ...\n",
       "5       Dilma veta projeto de Suplicy que cria linha o...\n",
       "6       Dilma anuncia 14 ministros e conclui reforma m...\n",
       "7       Dilma anuncia últimos 14 ministros e fecha equipe\n",
       "8       Ex-governador critica Alckmin pela falta de ág...\n",
       "9       Veja lista completa de ministros anunciados po...\n",
       "10      'PT não pode se queixar', afirma futuro articu...\n",
       "11      Planalto confirma Juca Ferreira no Ministério ...\n",
       "12      Pimentel divulga nomes do secretariado do gove...\n",
       "13      Com recusa de Celso Amorim, Figueiredo deve fi...\n",
       "14            Ala do PT pede saída de Ideli de ministério\n",
       "15      Cid Gomes anunciará novo piso para professores...\n",
       "16      Além de ministério, PRB ganha pastas estaduais...\n",
       "17      Ministro não precisa ser expert, afirma prefei...\n",
       "18      Dilma deixa Lula e ala majoritária do PT de fo...\n",
       "19      Lei de Roseana dá à ex-governadora direito a n...\n",
       "20      Alckmin chama presidente do PSDB paulista para...\n",
       "21      E-mails indicam ‘atuação direta’ de cartel no ...\n",
       "22      Menor prestígio e verba faz diplomatas buscare...\n",
       "23      'Obras de Alckmin terão significado para todo ...\n",
       "24      Cúpula da política externa proíbe uso de Faceb...\n",
       "25      Dilma usará termos 'observar leis' e 'sustenta...\n",
       "26            OAB SP reduz anuidade dos advogados em 2015\n",
       "27                 Dilma tenta reduzir poder de PT e PMDB\n",
       "28      Executiva de banco  diz na Justiça que PT 'exi...\n",
       "29      'Estelionato eleitoral' é benéfico ao País,   ...\n",
       "                              ...                        \n",
       "7613                     Acordo com Irã preocupa sauditas\n",
       "7614    Dados ajudam a  quebrar mitos da  política nac...\n",
       "7615    Eleição municipal e pequenas cidades induzem f...\n",
       "7616    11% dos eleitores do País são filiados a legen...\n",
       "7617     Adesão cresce em regiões de maior escolaridade  \n",
       "7618    'Se sentença seguiu as regras, é difícil haver...\n",
       "7619                             Abstinência programada  \n",
       "7620        Siglas descumprem cota feminina em propaganda\n",
       "7621    Bancada de mulheres no Brasil é inferior à méd...\n",
       "7622    Em prisão domiciliar, Genoino muda endereço pe...\n",
       "7623    Câmara não cumpre promessa de economia de R$ 2...\n",
       "7624    'Aliança com tucanos é a nova política', diz C...\n",
       "7625            Com base oscilante, Dilma usa menos PEC  \n",
       "7626    Aos 139 anos, 'Estado' preserva defesa da libe...\n",
       "7627           Dilma aprovou menos emendas que Lula e FHC\n",
       "7628    Câmara deixa de cumprir promessa de economia d...\n",
       "7629    PSB prepara anúncio de Marina como vice de Cam...\n",
       "7630    Campos empossa novos secretários em clima de c...\n",
       "7631    Alckmin volta a dizer que espera 'investigação...\n",
       "7632    Governo atua para adiar leis sensíveis a sindi...\n",
       "7633          Calendário curto trava pauta do Congresso  \n",
       "7634    Presidenciáveis privilegiam o Sudeste no cumpr...\n",
       "7635    Executivo da Siemens teve ordem para destruir ...\n",
       "7636    Governo tenta barrar projeto sobre greve de se...\n",
       "7637    Falta de acordo deve se intensificar no Congresso\n",
       "7638           Itamaraty recupera status com o Planalto  \n",
       "7639          No Congresso, até ruralistas são 'verdes'  \n",
       "7640               Indústria também tem lista de demandas\n",
       "7641    Ambientalistas criam pontes com oposição para ...\n",
       "7642    Ministros candidatos na eleição de outubro têm...\n",
       "Name: titulo, Length: 7643, dtype: object"
      ]
     },
     "execution_count": 9,
     "metadata": {},
     "output_type": "execute_result"
    }
   ],
   "source": [
    "import pandas as pd\n",
    "import numpy as np\n",
    "import nltk\n",
    "\n",
    "np.random.seed(543)\n",
    "\n",
    "dictionary = {}\n",
    "\n",
    "data = pd.read_csv('noticias_estadao.csv')"
   ]
  }
 ],
 "metadata": {
  "kernelspec": {
   "display_name": "Python 3",
   "language": "python",
   "name": "python3"
  },
  "language_info": {
   "codemirror_mode": {
    "name": "ipython",
    "version": 3
   },
   "file_extension": ".py",
   "mimetype": "text/x-python",
   "name": "python",
   "nbconvert_exporter": "python",
   "pygments_lexer": "ipython3",
   "version": "3.6.3"
  }
 },
 "nbformat": 4,
 "nbformat_minor": 2
}
