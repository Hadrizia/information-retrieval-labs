{
 "cells": [
  {
   "cell_type": "markdown",
   "metadata": {},
   "source": [
    "# Recuperação da Informação\n",
    "\n",
    "## Lab01 - Parte 1 - Construção de Índice Invertido e Busca Booleana\n",
    "\n",
    "Neste lab, inicialmente será criado um índice invertido. Depois, serão implementados os algoritmos de busca booleana: \n",
    "* 1-termo: usuário passa um termo e o algoritmo retorna os documentos associados;\n",
    "* Busca AND: todos os termos da consulta devem estar presentes na página;\n",
    "* Busca OR: algum dos termos da consulta deve estar presente na página.\n",
    "\n",
    "### 1. Importando bibliotecas e os dados a serem indexados"
   ]
  },
  {
   "cell_type": "code",
   "execution_count": 18,
   "metadata": {
    "collapsed": true
   },
   "outputs": [],
   "source": [
    "import pandas as pd\n",
    "import numpy as np\n",
    "#from textblob import TextBlob\n",
    "from collections import defaultdict\n",
    "\n",
    "np.random.seed(543)\n",
    "\n",
    "#nltk.download()\n",
    "\n",
    "dictionary = defaultdict(list)\n",
    "\n",
    "FILE_NAME = 'noticias_estadao.csv'\n",
    "\n",
    "df = pd.read_csv(FILE_NAME)\n",
    "\n",
    "# criação de uma nova coluna para a junção do título da notícia com seu conteúdo\n",
    "df['noticia'] = df.titulo + ' ' + df.conteudo\n",
    "\n",
    "tokens = []"
   ]
  },
  {
   "cell_type": "markdown",
   "metadata": {},
   "source": [
    "### 2. Implementando as funções a serem utilizadas posteriormente"
   ]
  },
  {
   "cell_type": "code",
   "execution_count": 49,
   "metadata": {
    "collapsed": true
   },
   "outputs": [],
   "source": [
    "def create_tokens(text, docId):\n",
    "    text = text.lower()\n",
    "    tokens = text.split(' ')\n",
    "    return tokens\n",
    "\n",
    "def create_indexes(tokens, docId):\n",
    "    for word in tokens:\n",
    "        if word in dictionary.keys():\n",
    "            dictionary[word].add(docId)\n",
    "        else:\n",
    "            dictionary[word] = set()\n",
    "            dictionary[word].add(docId)"
   ]
  },
  {
   "cell_type": "markdown",
   "metadata": {},
   "source": [
    "### 3. Gerando tokens e criando índices para os dados"
   ]
  },
  {
   "cell_type": "code",
   "execution_count": 75,
   "metadata": {},
   "outputs": [],
   "source": [
    "for index, row in df.iterrows():\n",
    "    token = create_tokens(row.noticia, row.idNoticia)\n",
    "    tokens.extend(token)\n",
    "    create_indexes(token, row.idNoticia)"
   ]
  },
  {
   "cell_type": "markdown",
   "metadata": {},
   "source": [
    "### 4. Implementando algoritmos de busca booleana"
   ]
  },
  {
   "cell_type": "code",
   "execution_count": 76,
   "metadata": {
    "collapsed": true
   },
   "outputs": [],
   "source": [
    "def single_term(element):\n",
    "    if element in dictionary.keys():\n",
    "        return dictionary[element]\n",
    "    \n",
    "def and_search(first_element, second_element):\n",
    "    return single_term(second_element).intersection(single_term(first_element))"
   ]
  },
  {
   "cell_type": "code",
   "execution_count": 78,
   "metadata": {},
   "outputs": [
    {
     "name": "stdout",
     "output_type": "stream",
     "text": [
      "1555\n",
      "{1952, 4802, 1987, 6694, 1770, 1068, 5870, 1370, 2779}\n"
     ]
    }
   ],
   "source": [
    "a = single_term('campina')\n",
    "b = single_term('grande')\n",
    "print (len(b))\n",
    "print(a.intersection(b))\n",
    "# [1952, 4802, 1987, 6694, 5382, 1770, 2763, 1068, 5870, 2777, 1370, 2779]"
   ]
  },
  {
   "cell_type": "code",
   "execution_count": 22,
   "metadata": {},
   "outputs": [],
   "source": [
    "# with open(FILE_NAME, 'r') as f:\n",
    "#     # lines = f.readlines()\n",
    "#     cont = 0\n",
    "#     for line in f:\n",
    "#         print(cont)\n",
    "#         line_split = line.split(',')\n",
    "#         #doc_id = line_split[-1]\n",
    "#         titulo = line_split[0]\n",
    "        \n",
    "#         print(titulo)\n",
    "        \n",
    "#         cont += 1"
   ]
  }
 ],
 "metadata": {
  "kernelspec": {
   "display_name": "Python 3",
   "language": "python",
   "name": "python3"
  },
  "language_info": {
   "codemirror_mode": {
    "name": "ipython",
    "version": 3
   },
   "file_extension": ".py",
   "mimetype": "text/x-python",
   "name": "python",
   "nbconvert_exporter": "python",
   "pygments_lexer": "ipython3",
   "version": "3.6.2"
  }
 },
 "nbformat": 4,
 "nbformat_minor": 2
}
