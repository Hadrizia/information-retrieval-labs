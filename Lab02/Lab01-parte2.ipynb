{
 "cells": [
  {
   "cell_type": "code",
   "execution_count": 141,
   "metadata": {},
   "outputs": [
    {
     "name": "stdout",
     "output_type": "stream",
     "text": [
      "[nltk_data] Downloading package punkt to\n",
      "[nltk_data]     /home/hadriziavas/nltk_data...\n",
      "[nltk_data]   Package punkt is already up-to-date!\n"
     ]
    }
   ],
   "source": [
    "import pandas as pd\n",
    "import collections\n",
    "import operator\n",
    "import nltk\n",
    "import math\n",
    "import numpy\n",
    "import string\n",
    "nltk.download(\"punkt\")\n",
    "\n",
    "dictionary = collections.defaultdict(list)\n",
    "\n",
    "FILE_NAME = 'estadao_noticias_eleicao.csv'\n",
    "\n",
    "df = pd.read_csv(FILE_NAME)\n",
    "df = df.replace(numpy.NAN, \"\")\n",
    "\n",
    "# criação de uma nova coluna para a junção do título da notícia com seu conteúdo\n",
    "df['noticia'] = df.titulo + ' ' + df.subTitulo + ' ' + df.conteudo"
   ]
  },
  {
   "cell_type": "code",
   "execution_count": 155,
   "metadata": {},
   "outputs": [],
   "source": [
    "def create_indexes(tokens, docId):\n",
    "    for word in tokens:\n",
    "        if word in dictionary: \n",
    "            if docId in dictionary[word]:\n",
    "                dictionary[word][docId] += 1 \n",
    "            else:\n",
    "                dictionary[word][docId] = 1 \n",
    "        else:\n",
    "            dictionary[word] = {}\n",
    "            dictionary[word][docId] = 1"
   ]
  },
  {
   "cell_type": "code",
   "execution_count": 156,
   "metadata": {},
   "outputs": [],
   "source": [
    "for index, row in df.iterrows():  \n",
    "    tokens = nltk.word_tokenize(row.noticia) \n",
    "    create_indexes(tokens, row.idNoticia)"
   ]
  },
  {
   "cell_type": "code",
   "execution_count": 41,
   "metadata": {},
   "outputs": [],
   "source": [
    "def calculateIDF(M, k):\n",
    "    idf = math.log10((M + 1) / k)\n",
    "    "
   ]
  },
  {
   "cell_type": "code",
   "execution_count": 159,
   "metadata": {},
   "outputs": [
    {
     "name": "stdout",
     "output_type": "stream",
     "text": [
      "[]\n"
     ]
    }
   ],
   "source": [
    "print (dictionary[\"pt\"])"
   ]
  },
  {
   "cell_type": "code",
   "execution_count": 124,
   "metadata": {},
   "outputs": [
    {
     "name": "stdout",
     "output_type": "stream",
     "text": [
      "[]\n"
     ]
    }
   ],
   "source": []
  },
  {
   "cell_type": "code",
   "execution_count": null,
   "metadata": {
    "collapsed": true
   },
   "outputs": [],
   "source": []
  }
 ],
 "metadata": {
  "kernelspec": {
   "display_name": "Python 3",
   "language": "python",
   "name": "python3"
  },
  "language_info": {
   "codemirror_mode": {
    "name": "ipython",
    "version": 3
   },
   "file_extension": ".py",
   "mimetype": "text/x-python",
   "name": "python",
   "nbconvert_exporter": "python",
   "pygments_lexer": "ipython3",
   "version": "3.6.2"
  }
 },
 "nbformat": 4,
 "nbformat_minor": 2
}
